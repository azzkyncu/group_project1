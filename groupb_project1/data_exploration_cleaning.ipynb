{
 "cells": [
  {
   "cell_type": "markdown",
   "metadata": {},
   "source": [
    "## Behavioral Risk Factor Surveillance System"
   ]
  },
  {
   "cell_type": "markdown",
   "metadata": {},
   "source": [
    "#### Following commands were executed to download the CSV file from Kaggle API.\n",
    "\n",
    "#### https://github.com/Kaggle/kaggle-api\n",
    "\n",
    "\n"
   ]
  },
  {
   "cell_type": "code",
   "execution_count": 7,
   "metadata": {},
   "outputs": [
    {
     "name": "stdout",
     "output_type": "stream",
     "text": [
      "Requirement already satisfied: kaggle in /Users/azizkoyuncu/anaconda3/lib/python3.7/site-packages (1.5.6)\n",
      "Requirement already satisfied: certifi in /Users/azizkoyuncu/anaconda3/lib/python3.7/site-packages (from kaggle) (2019.3.9)\n",
      "Requirement already satisfied: urllib3<1.25,>=1.21.1 in /Users/azizkoyuncu/anaconda3/lib/python3.7/site-packages (from kaggle) (1.24.1)\n",
      "Requirement already satisfied: requests in /Users/azizkoyuncu/anaconda3/lib/python3.7/site-packages (from kaggle) (2.21.0)\n",
      "Requirement already satisfied: tqdm in /Users/azizkoyuncu/anaconda3/lib/python3.7/site-packages (from kaggle) (4.31.1)\n",
      "Requirement already satisfied: six>=1.10 in /Users/azizkoyuncu/anaconda3/lib/python3.7/site-packages (from kaggle) (1.12.0)\n",
      "Requirement already satisfied: python-slugify in /Users/azizkoyuncu/anaconda3/lib/python3.7/site-packages (from kaggle) (4.0.0)\n",
      "Requirement already satisfied: python-dateutil in /Users/azizkoyuncu/anaconda3/lib/python3.7/site-packages (from kaggle) (2.8.0)\n",
      "Requirement already satisfied: idna<2.9,>=2.5 in /Users/azizkoyuncu/anaconda3/lib/python3.7/site-packages (from requests->kaggle) (2.8)\n",
      "Requirement already satisfied: chardet<3.1.0,>=3.0.2 in /Users/azizkoyuncu/anaconda3/lib/python3.7/site-packages (from requests->kaggle) (3.0.4)\n",
      "Requirement already satisfied: text-unidecode>=1.3 in /Users/azizkoyuncu/anaconda3/lib/python3.7/site-packages (from python-slugify->kaggle) (1.3)\n",
      "Traceback (most recent call last):\n",
      "  File \"/Users/azizkoyuncu/anaconda3/bin/kaggle\", line 6, in <module>\n",
      "    from kaggle.cli import main\n",
      "  File \"/Users/azizkoyuncu/anaconda3/lib/python3.7/site-packages/kaggle/__init__.py\", line 23, in <module>\n",
      "    api.authenticate()\n",
      "  File \"/Users/azizkoyuncu/anaconda3/lib/python3.7/site-packages/kaggle/api/kaggle_api_extended.py\", line 149, in authenticate\n",
      "    self.config_file, self.config_dir))\n",
      "OSError: Could not find kaggle.json. Make sure it's located in /Users/azizkoyuncu/.kaggle. Or use the environment method.\n"
     ]
    }
   ],
   "source": [
    "# This need not run every time.\n",
    "!pip install kaggle\n",
    "!kaggle datasets download -d cdc/behavioral-risk-factor-surveillance-system\n"
   ]
  },
  {
   "cell_type": "markdown",
   "metadata": {},
   "source": [
    "#### Installing Dependencies"
   ]
  },
  {
   "cell_type": "code",
   "execution_count": 8,
   "metadata": {},
   "outputs": [],
   "source": [
    "# Installing Dependencies\n",
    "import pandas as pd\n",
    "import numpy as np\n",
    "import matplotlib.pyplot as plt\n",
    "import warnings\n",
    "warnings.filterwarnings('ignore')\n"
   ]
  },
  {
   "cell_type": "markdown",
   "metadata": {},
   "source": [
    "#### Reading the Original CSV file downloaded from Kaggle.\n",
    "\n",
    "\n"
   ]
  },
  {
   "cell_type": "code",
   "execution_count": 9,
   "metadata": {},
   "outputs": [
    {
     "ename": "FileNotFoundError",
     "evalue": "[Errno 2] File b'./Resources/2015.csv' does not exist: b'./Resources/2015.csv'",
     "output_type": "error",
     "traceback": [
      "\u001b[0;31m---------------------------------------------------------------------------\u001b[0m",
      "\u001b[0;31mFileNotFoundError\u001b[0m                         Traceback (most recent call last)",
      "\u001b[0;32m<timed exec>\u001b[0m in \u001b[0;36m<module>\u001b[0;34m\u001b[0m\n",
      "\u001b[0;32m~/anaconda3/lib/python3.7/site-packages/pandas/io/parsers.py\u001b[0m in \u001b[0;36mparser_f\u001b[0;34m(filepath_or_buffer, sep, delimiter, header, names, index_col, usecols, squeeze, prefix, mangle_dupe_cols, dtype, engine, converters, true_values, false_values, skipinitialspace, skiprows, skipfooter, nrows, na_values, keep_default_na, na_filter, verbose, skip_blank_lines, parse_dates, infer_datetime_format, keep_date_col, date_parser, dayfirst, iterator, chunksize, compression, thousands, decimal, lineterminator, quotechar, quoting, doublequote, escapechar, comment, encoding, dialect, tupleize_cols, error_bad_lines, warn_bad_lines, delim_whitespace, low_memory, memory_map, float_precision)\u001b[0m\n\u001b[1;32m    700\u001b[0m                     skip_blank_lines=skip_blank_lines)\n\u001b[1;32m    701\u001b[0m \u001b[0;34m\u001b[0m\u001b[0m\n\u001b[0;32m--> 702\u001b[0;31m         \u001b[0;32mreturn\u001b[0m \u001b[0m_read\u001b[0m\u001b[0;34m(\u001b[0m\u001b[0mfilepath_or_buffer\u001b[0m\u001b[0;34m,\u001b[0m \u001b[0mkwds\u001b[0m\u001b[0;34m)\u001b[0m\u001b[0;34m\u001b[0m\u001b[0;34m\u001b[0m\u001b[0m\n\u001b[0m\u001b[1;32m    703\u001b[0m \u001b[0;34m\u001b[0m\u001b[0m\n\u001b[1;32m    704\u001b[0m     \u001b[0mparser_f\u001b[0m\u001b[0;34m.\u001b[0m\u001b[0m__name__\u001b[0m \u001b[0;34m=\u001b[0m \u001b[0mname\u001b[0m\u001b[0;34m\u001b[0m\u001b[0;34m\u001b[0m\u001b[0m\n",
      "\u001b[0;32m~/anaconda3/lib/python3.7/site-packages/pandas/io/parsers.py\u001b[0m in \u001b[0;36m_read\u001b[0;34m(filepath_or_buffer, kwds)\u001b[0m\n\u001b[1;32m    427\u001b[0m \u001b[0;34m\u001b[0m\u001b[0m\n\u001b[1;32m    428\u001b[0m     \u001b[0;31m# Create the parser.\u001b[0m\u001b[0;34m\u001b[0m\u001b[0;34m\u001b[0m\u001b[0;34m\u001b[0m\u001b[0m\n\u001b[0;32m--> 429\u001b[0;31m     \u001b[0mparser\u001b[0m \u001b[0;34m=\u001b[0m \u001b[0mTextFileReader\u001b[0m\u001b[0;34m(\u001b[0m\u001b[0mfilepath_or_buffer\u001b[0m\u001b[0;34m,\u001b[0m \u001b[0;34m**\u001b[0m\u001b[0mkwds\u001b[0m\u001b[0;34m)\u001b[0m\u001b[0;34m\u001b[0m\u001b[0;34m\u001b[0m\u001b[0m\n\u001b[0m\u001b[1;32m    430\u001b[0m \u001b[0;34m\u001b[0m\u001b[0m\n\u001b[1;32m    431\u001b[0m     \u001b[0;32mif\u001b[0m \u001b[0mchunksize\u001b[0m \u001b[0;32mor\u001b[0m \u001b[0miterator\u001b[0m\u001b[0;34m:\u001b[0m\u001b[0;34m\u001b[0m\u001b[0;34m\u001b[0m\u001b[0m\n",
      "\u001b[0;32m~/anaconda3/lib/python3.7/site-packages/pandas/io/parsers.py\u001b[0m in \u001b[0;36m__init__\u001b[0;34m(self, f, engine, **kwds)\u001b[0m\n\u001b[1;32m    893\u001b[0m             \u001b[0mself\u001b[0m\u001b[0;34m.\u001b[0m\u001b[0moptions\u001b[0m\u001b[0;34m[\u001b[0m\u001b[0;34m'has_index_names'\u001b[0m\u001b[0;34m]\u001b[0m \u001b[0;34m=\u001b[0m \u001b[0mkwds\u001b[0m\u001b[0;34m[\u001b[0m\u001b[0;34m'has_index_names'\u001b[0m\u001b[0;34m]\u001b[0m\u001b[0;34m\u001b[0m\u001b[0;34m\u001b[0m\u001b[0m\n\u001b[1;32m    894\u001b[0m \u001b[0;34m\u001b[0m\u001b[0m\n\u001b[0;32m--> 895\u001b[0;31m         \u001b[0mself\u001b[0m\u001b[0;34m.\u001b[0m\u001b[0m_make_engine\u001b[0m\u001b[0;34m(\u001b[0m\u001b[0mself\u001b[0m\u001b[0;34m.\u001b[0m\u001b[0mengine\u001b[0m\u001b[0;34m)\u001b[0m\u001b[0;34m\u001b[0m\u001b[0;34m\u001b[0m\u001b[0m\n\u001b[0m\u001b[1;32m    896\u001b[0m \u001b[0;34m\u001b[0m\u001b[0m\n\u001b[1;32m    897\u001b[0m     \u001b[0;32mdef\u001b[0m \u001b[0mclose\u001b[0m\u001b[0;34m(\u001b[0m\u001b[0mself\u001b[0m\u001b[0;34m)\u001b[0m\u001b[0;34m:\u001b[0m\u001b[0;34m\u001b[0m\u001b[0;34m\u001b[0m\u001b[0m\n",
      "\u001b[0;32m~/anaconda3/lib/python3.7/site-packages/pandas/io/parsers.py\u001b[0m in \u001b[0;36m_make_engine\u001b[0;34m(self, engine)\u001b[0m\n\u001b[1;32m   1120\u001b[0m     \u001b[0;32mdef\u001b[0m \u001b[0m_make_engine\u001b[0m\u001b[0;34m(\u001b[0m\u001b[0mself\u001b[0m\u001b[0;34m,\u001b[0m \u001b[0mengine\u001b[0m\u001b[0;34m=\u001b[0m\u001b[0;34m'c'\u001b[0m\u001b[0;34m)\u001b[0m\u001b[0;34m:\u001b[0m\u001b[0;34m\u001b[0m\u001b[0;34m\u001b[0m\u001b[0m\n\u001b[1;32m   1121\u001b[0m         \u001b[0;32mif\u001b[0m \u001b[0mengine\u001b[0m \u001b[0;34m==\u001b[0m \u001b[0;34m'c'\u001b[0m\u001b[0;34m:\u001b[0m\u001b[0;34m\u001b[0m\u001b[0;34m\u001b[0m\u001b[0m\n\u001b[0;32m-> 1122\u001b[0;31m             \u001b[0mself\u001b[0m\u001b[0;34m.\u001b[0m\u001b[0m_engine\u001b[0m \u001b[0;34m=\u001b[0m \u001b[0mCParserWrapper\u001b[0m\u001b[0;34m(\u001b[0m\u001b[0mself\u001b[0m\u001b[0;34m.\u001b[0m\u001b[0mf\u001b[0m\u001b[0;34m,\u001b[0m \u001b[0;34m**\u001b[0m\u001b[0mself\u001b[0m\u001b[0;34m.\u001b[0m\u001b[0moptions\u001b[0m\u001b[0;34m)\u001b[0m\u001b[0;34m\u001b[0m\u001b[0;34m\u001b[0m\u001b[0m\n\u001b[0m\u001b[1;32m   1123\u001b[0m         \u001b[0;32melse\u001b[0m\u001b[0;34m:\u001b[0m\u001b[0;34m\u001b[0m\u001b[0;34m\u001b[0m\u001b[0m\n\u001b[1;32m   1124\u001b[0m             \u001b[0;32mif\u001b[0m \u001b[0mengine\u001b[0m \u001b[0;34m==\u001b[0m \u001b[0;34m'python'\u001b[0m\u001b[0;34m:\u001b[0m\u001b[0;34m\u001b[0m\u001b[0;34m\u001b[0m\u001b[0m\n",
      "\u001b[0;32m~/anaconda3/lib/python3.7/site-packages/pandas/io/parsers.py\u001b[0m in \u001b[0;36m__init__\u001b[0;34m(self, src, **kwds)\u001b[0m\n\u001b[1;32m   1851\u001b[0m         \u001b[0mkwds\u001b[0m\u001b[0;34m[\u001b[0m\u001b[0;34m'usecols'\u001b[0m\u001b[0;34m]\u001b[0m \u001b[0;34m=\u001b[0m \u001b[0mself\u001b[0m\u001b[0;34m.\u001b[0m\u001b[0musecols\u001b[0m\u001b[0;34m\u001b[0m\u001b[0;34m\u001b[0m\u001b[0m\n\u001b[1;32m   1852\u001b[0m \u001b[0;34m\u001b[0m\u001b[0m\n\u001b[0;32m-> 1853\u001b[0;31m         \u001b[0mself\u001b[0m\u001b[0;34m.\u001b[0m\u001b[0m_reader\u001b[0m \u001b[0;34m=\u001b[0m \u001b[0mparsers\u001b[0m\u001b[0;34m.\u001b[0m\u001b[0mTextReader\u001b[0m\u001b[0;34m(\u001b[0m\u001b[0msrc\u001b[0m\u001b[0;34m,\u001b[0m \u001b[0;34m**\u001b[0m\u001b[0mkwds\u001b[0m\u001b[0;34m)\u001b[0m\u001b[0;34m\u001b[0m\u001b[0;34m\u001b[0m\u001b[0m\n\u001b[0m\u001b[1;32m   1854\u001b[0m         \u001b[0mself\u001b[0m\u001b[0;34m.\u001b[0m\u001b[0munnamed_cols\u001b[0m \u001b[0;34m=\u001b[0m \u001b[0mself\u001b[0m\u001b[0;34m.\u001b[0m\u001b[0m_reader\u001b[0m\u001b[0;34m.\u001b[0m\u001b[0munnamed_cols\u001b[0m\u001b[0;34m\u001b[0m\u001b[0;34m\u001b[0m\u001b[0m\n\u001b[1;32m   1855\u001b[0m \u001b[0;34m\u001b[0m\u001b[0m\n",
      "\u001b[0;32mpandas/_libs/parsers.pyx\u001b[0m in \u001b[0;36mpandas._libs.parsers.TextReader.__cinit__\u001b[0;34m()\u001b[0m\n",
      "\u001b[0;32mpandas/_libs/parsers.pyx\u001b[0m in \u001b[0;36mpandas._libs.parsers.TextReader._setup_parser_source\u001b[0;34m()\u001b[0m\n",
      "\u001b[0;31mFileNotFoundError\u001b[0m: [Errno 2] File b'./Resources/2015.csv' does not exist: b'./Resources/2015.csv'"
     ]
    }
   ],
   "source": [
    "%%time\n",
    "# The behavioral-risk-factor-surveillance-system.zip had data for 5 years. \n",
    "# Using the 2015 data for analysis now.\n",
    "\n",
    "file_path = \"./Resources/2015.csv\"\n",
    "behavioral_data_original = pd.read_csv(file_path, encoding=\"utf-8\")\n"
   ]
  },
  {
   "cell_type": "code",
   "execution_count": 10,
   "metadata": {},
   "outputs": [
    {
     "ename": "NameError",
     "evalue": "name 'behavioral_data_original' is not defined",
     "output_type": "error",
     "traceback": [
      "\u001b[0;31m---------------------------------------------------------------------------\u001b[0m",
      "\u001b[0;31mNameError\u001b[0m                                 Traceback (most recent call last)",
      "\u001b[0;32m<ipython-input-10-6f8934f01140>\u001b[0m in \u001b[0;36m<module>\u001b[0;34m\u001b[0m\n\u001b[1;32m      1\u001b[0m \u001b[0;31m# Reviewing the original dataset.\u001b[0m\u001b[0;34m\u001b[0m\u001b[0;34m\u001b[0m\u001b[0;34m\u001b[0m\u001b[0m\n\u001b[0;32m----> 2\u001b[0;31m \u001b[0mbehavioral_data_original\u001b[0m\u001b[0;34m.\u001b[0m\u001b[0mhead\u001b[0m\u001b[0;34m(\u001b[0m\u001b[0;34m)\u001b[0m\u001b[0;34m\u001b[0m\u001b[0;34m\u001b[0m\u001b[0m\n\u001b[0m",
      "\u001b[0;31mNameError\u001b[0m: name 'behavioral_data_original' is not defined"
     ]
    }
   ],
   "source": [
    "# Reviewing the original dataset.\n",
    "behavioral_data_original.head()\n"
   ]
  },
  {
   "cell_type": "code",
   "execution_count": null,
   "metadata": {},
   "outputs": [],
   "source": [
    "# Reviewing the MetaData info. Information about a DataFrame including the index dtype and column dtypes, \n",
    "# non-null values and memory usage\n",
    "behavioral_data_original.info()"
   ]
  },
  {
   "cell_type": "markdown",
   "metadata": {},
   "source": [
    "#### Selecting the required columns for exploratory analysis and cleaning.\n",
    "* \"_STATE\" - State FIPS Code,  \"SEX\" - Gender ,  \"MARITAL\" - Marital Status,  \"_RACEGR3\" - Race/demographics, \n",
    "* \"EDUCA\" - Education Level, \"_AGEG5YR\" - Age Category , \"WEIGHT2\" - Weight in Lbs,  \"HTIN4\" - Height in Feet, \n",
    "* \"_BMI5CAT\" - BMI Category, \"BPHIGH4\" - Ever Teported with high Blood Pressure,\"TOLDHI2\" - Ever told with high blood Cholestrol\n",
    "* \"INCOME2\" - Income category, \"SMOKDAY2\" - Smoking Frequency, \"AVEDRNK2\" - Average drinks / day, \n",
    "* \"_VEGESUM\" - Total vegetable consumption/ Day, \"_FRUTSUM\" - Total Fruit Consumption/Day, \"CVDSTRK3\" - Number of Drinks,\n",
    "* \"PA1MIN_\" - Physical activity per minutes/week, \"CVDCRHD4\" - Ever reported of Heart Attack, \n",
    "* \"CHCOCNCR\" - Ever reported Cancer,  \"DIABETE3\" - Ever reported Diabetes."
   ]
  },
  {
   "cell_type": "code",
   "execution_count": null,
   "metadata": {},
   "outputs": [],
   "source": [
    "%%time\n",
    "# New dataframe with selected columns from the original dataframe.\n",
    "behavioral_data_reduced = behavioral_data_original [[\"_STATE\", \"SEX\", \"MARITAL\",\"_RACEGR3\", \"EDUCA\", \"_AGEG5YR\", \"WEIGHT2\",  \"HTIN4\",\"_BMI5CAT\",\"BPHIGH4\" ,\"TOLDHI2\", \"INCOME2\", \"SMOKDAY2\" , \"AVEDRNK2\", \"_VEGESUM\", \"_FRUTSUM\", \"CVDSTRK3\", \"PA1MIN_\", \"CVDCRHD4\", \"CHCOCNCR\", \"DIABETE3\"]]\n",
    "\n",
    "# Writing this new dataframe to a file\n",
    "behavioral_data_reduced.to_csv(\"./Resources/behavioral_revised_data.csv\")\n",
    "\n",
    "# Viewing the metadate info.\n",
    "behavioral_data_reduced.info()\n"
   ]
  },
  {
   "cell_type": "code",
   "execution_count": null,
   "metadata": {},
   "outputs": [],
   "source": [
    "%%time\n",
    "# Viewing the Descriptive stats info on the revised data.\n",
    "behavioral_data_reduced.describe()"
   ]
  },
  {
   "cell_type": "markdown",
   "metadata": {},
   "source": [
    "#### Data Exploratory Analysis\n",
    "#### Reading from the new CSV with selected columns"
   ]
  },
  {
   "cell_type": "code",
   "execution_count": null,
   "metadata": {},
   "outputs": [],
   "source": [
    "%%time\n",
    "# Reading the new revised behavioral revised csv for processing.\n",
    "file_path = \"./Resources/behavioral_revised_data.csv\"\n",
    "behavioral_data =  pd.read_csv(file_path,skip_blank_lines=True, na_values=[9999,\"\", 7777],index_col=0)\n",
    "\n"
   ]
  },
  {
   "cell_type": "code",
   "execution_count": null,
   "metadata": {},
   "outputs": [],
   "source": [
    "# Previewing the Descriptive stats details for the data\n",
    "behavioral_data.describe()"
   ]
  },
  {
   "cell_type": "markdown",
   "metadata": {},
   "source": [
    "#### Cleaning up the data.\n",
    "#### Converting Numeric Data to Text for categorical values"
   ]
  },
  {
   "cell_type": "code",
   "execution_count": null,
   "metadata": {},
   "outputs": [],
   "source": [
    "# Replacing all numeric values with state names\n",
    "states_data = {1 : [\"Alabama\",\"AL\"], 2: [\"Alaska\" ,\"AK\"] , 4: [\"Arizona\", \"AZ\"],\n",
    "               5 : [\"Arkansas\", \"AR\"], 6: [\"California\",\"CA\"],8 : [\"Colorado\", \"CO\"],\n",
    "               9 : [\"Connecticut\", \"CT\"], 10 : [\"Delaware\",\"DE\"], 11: [\"District of Columbia\",\"DC\"],\n",
    "               12 : [\"Florida\",\"FL\"], 13 :  [\"Georgia\", \"GA\"],15 : [\"Hawaii\", \"HI\"], 16 : [\"Idaho\", \"ID\"],\n",
    "               17 : [\"Illinois\", \"IL\"], 18 : [\"Indiana\", \"IN\"], 19 : [\"Iowa\", \"IA\"], 20 : [\"Kansas\", \"KS\"],\n",
    "               21 : [\"Kentucky\", \"KY\"], 22 : [\"Louisiana\", \"LA\"], 23 : [\"Maine\", \"ME\"] ,24 : [\"Maryland\", \"MD\"],\n",
    "               25 : [\"Massachusetts\", \"MA\"], 26 : [\"Michigan\", \"MI\"] ,27 : [\"Minnesota\", \"MN\"], 28 : [\"Mississippi\", \"MS\"],\n",
    "               29 : [\"Missouri\", \"MO\"],30 : [\"Montana\", \"MT\"],31 : [\"Nebraska\",\"NE\"],32 : [\"Nevada\", \"NV\"],33 : [\"New Hampshire\", \"NH\"],34 : [\"New Jersey\",\"NJ\"]\n",
    "               ,35 : [\"New Mexico\",\"NM\"],36 : [\"New York\", \"NY\"] ,37 : [\"North Carolina\", \"NC\"],38 : [\"North Dakota\", \"ND\"],39 : [\"Ohio\", \"OH\"],40 : [\"Oklahoma\", \"OK\"]\n",
    "               ,41 : [\"Oregon\", \"OR\"],42 : [\"Pennsylvania\", \"PA\"],44 : [\"Rhode Island\", \"RI\"],45 : [\"South Carolina\", \"SC\"],46 : [\"South Dakota\", \"SD\"],47 : [\"Tennessee\",\"TN\"]\n",
    "               ,48 : [\"Texas\", \"TX\"],49 : [\"Utah\", \"UT\"],50 : [\"Vermont\", \"VT\"],51 : [\"Virginia\", \"VA\"],53 : [\"Washington\", \"WA\"],54 : [\"West Virginia\", \"WV\"],55 : [\"Wisconsin\",\"WI\"]\n",
    "               ,56 : [\"Wyoming\", \"WY\"],66 : [\"Guam\", \"GU\"],72 : [\"Puerto Rico\", \"PR\"]}\n",
    "\n",
    "#Replacing gender codes with actual values\n",
    "gender = { 1: \"Male\" , 2 : \"Female\"}\n",
    "\n",
    "# Replacing Marital status codes with actual values\n",
    "marital_status = { 1 : \"Married\", 2 : \"Divorced\", 3 : \"Widowed\", 4 : \"Separated\", 5 : \"Never married\", \n",
    "                  6 : \"A member of an unmarried couple\",9 : \"Refused\" }\n",
    "\n",
    "# Replacing education values to categories\n",
    "education = {1 : \"No School\", 2 : \"Elementary\", \n",
    "            3 : \"Junior High\",4 : \"High School\", \n",
    "             5 : \"College 3yrs\", \n",
    "             6 : \"College 4yrs\", 9 : \"Refused\"}\n",
    "\n",
    "# Replacing internet usage to values\n",
    "internet_values = {1 : \"Yes\", 2 : \"No\", 7 : \"Don’t know/Not Sure\", 9 : \"Refused\", \"\" :  \"Not asked or Missing\"}\n",
    "\n",
    "# Replacing race values to it's categories\n",
    "race = { 1 :\"White only\", 2 :\"Black only\", 3 :\"Other race only\", 4 :\"Multiracial\",\n",
    "                5 :\"Hispanic\", 9 :\"Don’t know/Not sure/Refused\"}\n",
    "\n",
    "\n",
    "# Replacing age values to it's categories\n",
    "age_values = {1 : \"18-24\", 2 : \"25-29\", 3 : \"30-34\", 4 : \"35-39\", \n",
    "              5 : \"40-44\", 6 : \"45-49\", 7 : \"50-54\", 8 : \"55-59\", \n",
    "              9 : \"60-64\", 10: \"65-69\", 11: \"70-74\", 12: \"75-79\",\n",
    "              13: \">80\", 14: \"Don’t know/Refused/Missing\"}\n",
    "\n",
    "# Replacing income values to it's categories\n",
    "income_values = {1.0 : \"< 10000\", 2 : \"10000-15000\", 3:  \"15000-20000\", \n",
    "                 4.0 : \"20000-25000\" , 5 : \"25000-35000\" , 6 : \"35000-50000\", \n",
    "                 7.0 : \"50000-75000\" , 8 : \" >75000\", 77 : \"Don’t know/Not sure\", 99 : \"Refused\"\n",
    "                }\n",
    "\n",
    "# Replacing smoke values to it's categories\n",
    "smoke_values = { 1 : \"Every day\", 2 : \"Some days\", 3 :  \"Not at all\", \n",
    "                7 : \"Don´t Know/Not Sure\" , 9 : \"Refused\", \"\" :  \"Not asked or Missing\"}\n",
    "\n",
    "# Replacing heart disease values to actual state.\n",
    "heart_disease_values = { 1 : 'Yes' , 2 : 'No' , 7 : 'Don’t know/Not sure' , 9: 'Refused'}\n",
    "\n",
    "# Replacing BMI values to it's categories.\n",
    "bmi_values = { 1: \"Underweight\", 2: \"Normal Weight\" , 3:\"Overweight\" , 4 : \"Obese\" , \"\" : \"Refused\"}\n",
    "\n",
    "\n",
    "# Replacing BP values to actual state.\n",
    "blood_pressure_values = {1: \"Yes\", 2 : \"Yes\" , 3: \"No\", 4: \"Borderline\" , 7: \"Don´t know/Not Sure\", 9:\"Refused\" , \"\" :\"Not Asked\"}\n",
    "\n",
    "# Replacing Cholestrol values to it's state.\n",
    "cholestrol_values = { 1: \"Yes\", 2:\"No\", 3:\"Don’t know/Not Sure\", 9: \"Refused\", \"\": \"Not Asked\"}\n",
    "\n",
    "# Replacing Cancer values to it's state.\n",
    "cancer_values = { 1: \"Yes\" , 2 : \"No\" , 7 : \"Don’t know/Not sure\", 9 : \"Refused\"}\n",
    "\n",
    "# Replacing Kidney values it's state\n",
    "kidney_values = { 1: \"Yes\" , 2: \"No\", 7 : \"Don’t know/Not sure\" , 9 : \"Refused\" }\n",
    "\n",
    "# Replacing Stroke values to it's state.\n",
    "stroke_values = {1 : \"Yes\", 2 : \"No\", 7 : \"Don’t know/Not sure\", 9 : \"Refused\"}\n",
    "\n",
    "# Replacing Diabetic values to it's state.\n",
    "diabetes_values = { 1: \"Yes\", 2: \"Yes\" , 3: \"No\" , 4: \"No\" , 7: \"Don’t know/Not Sure\" , 9: \"Refused\"}\n",
    "\n",
    "behavioral_data.info()"
   ]
  },
  {
   "cell_type": "code",
   "execution_count": null,
   "metadata": {},
   "outputs": [],
   "source": [
    "# Creating some new columns to store the text values\n",
    "behavioral_data[\"State\"] = \"\"\n",
    "behavioral_data[\"State Code\"] = \"\"\n",
    "behavioral_data[\"Sex\"] = \"\"\n",
    "behavioral_data[\"Marital Status\"] = \"\"\n",
    "behavioral_data[\"Education\"] = \"\"\n",
    "behavioral_data[\"Race\"] = \"\"\n",
    "behavioral_data[\"Income\"] = \"\"\n",
    "behavioral_data[\"Smoking\"] = \"\"\n",
    "behavioral_data[\"Heart Disease\"] = \"\"\n",
    "behavioral_data[\"Blood Pressure\"] = \"\"\n",
    "behavioral_data[\"Diabetes\"] = \"\"\n",
    "behavioral_data[\"Cancer\"] = \"\"\n",
    "behavioral_data[\"Cholestrol\"] = \"\"\n",
    "behavioral_data[\"BMI\"] = \"\"\n",
    "behavioral_data[\"Stroke\"] = \"\"\n",
    "behavioral_data[\"Age\"] = \"\"\n",
    "behavioral_data.head()"
   ]
  },
  {
   "cell_type": "code",
   "execution_count": null,
   "metadata": {},
   "outputs": [],
   "source": [
    "%%time\n",
    "# Converting Numeric data to Text form\n",
    "behavioral_data['State'] = behavioral_data['_STATE'].map(lambda x: states_data.get(x, None)[0])\n",
    "behavioral_data['State Code'] = behavioral_data['_STATE'].map(lambda x: states_data.get(x, None)[1])\n",
    "behavioral_data[\"Sex\"] = behavioral_data['SEX'].map(lambda x: gender.get(x, None))\n",
    "behavioral_data[\"Marital Status\"] = behavioral_data['MARITAL'].map(lambda x: marital_status.get(x, None))\n",
    "behavioral_data[\"Education\"] =  behavioral_data[\"EDUCA\"].map(lambda x: education.get(x, None))\n",
    "behavioral_data[\"Race\"] = behavioral_data[\"_RACEGR3\"].map(lambda x: race.get(x, None))\n",
    "behavioral_data[\"Income\"] = behavioral_data[\"INCOME2\"].map(lambda x: income_values.get(x, None))\n",
    "behavioral_data[\"Smoking\"] = behavioral_data[\"SMOKDAY2\"].map(lambda x: smoke_values.get(x, None))\n",
    "behavioral_data[\"Heart Disease\"] = behavioral_data[\"CVDCRHD4\"].map(lambda x: heart_disease_values.get(x, None))\n",
    "behavioral_data[\"Blood Pressure\"] = behavioral_data[\"BPHIGH4\"].map(lambda x: blood_pressure_values.get(x, None))\n",
    "behavioral_data[\"Cancer\"] = behavioral_data[\"CHCOCNCR\"].map(lambda x: cancer_values.get(x, None))\n",
    "behavioral_data[\"Diabetes\"] = behavioral_data[\"DIABETE3\"].map(lambda x: diabetes_values.get(x, None))\n",
    "behavioral_data[\"Cholestrol\"] = behavioral_data[\"TOLDHI2\"].map(lambda x: cholestrol_values.get(x, None))\n",
    "behavioral_data[\"BMI\"] = behavioral_data[\"_BMI5CAT\"].map(lambda x: bmi_values.get(x, None))\n",
    "behavioral_data[\"Stroke\"] = behavioral_data[\"CVDSTRK3\"].map(lambda x: stroke_values.get(x, None))\n",
    "behavioral_data[\"Age\"] = behavioral_data[\"_AGEG5YR\"].map(lambda x: age_values.get(x, None))\n",
    "behavioral_data[\"HTIN4\"] = behavioral_data[\"HTIN4\"].map(lambda x: x * 0.08333)  # Converting to Feet from inches\n",
    "behavioral_data[\"PA1MIN_\"] = behavioral_data[\"PA1MIN_\"] / 7   # Converting to Per day from Per Week\n",
    "behavioral_data[\"_VEGESUM\"] = round(behavioral_data[\"_VEGESUM\"] / 100,2)\n",
    "behavioral_data[\"_FRUTSUM\"] = round(behavioral_data[\"_FRUTSUM\"] / 100,2)\n",
    "\n"
   ]
  },
  {
   "cell_type": "markdown",
   "metadata": {},
   "source": [
    "####  Removing outliers and Nan values."
   ]
  },
  {
   "cell_type": "code",
   "execution_count": null,
   "metadata": {},
   "outputs": [],
   "source": [
    "# Keeping a threshold for AVEDRNK2, _FRUTSUM, _VEGESUM, WEIGHT2 and treating the remaining as outliers \n",
    "# All outliers are now set as Nan.\n",
    "behavioral_data[\"AVEDRNK2\"] = behavioral_data[\"AVEDRNK2\"].map(lambda x: np.nan if x > 10 else x)\n",
    "behavioral_data[\"_FRUTSUM\"] = behavioral_data[\"_FRUTSUM\"].map(lambda x: np.nan if x > 20 else x)\n",
    "behavioral_data[\"_VEGESUM\"] = behavioral_data[\"_VEGESUM\"].map(lambda x: np.nan if x > 20 else x)\n",
    "behavioral_data[\"WEIGHT2\"] = behavioral_data[\"WEIGHT2\"].map(lambda x: np.nan if x > 9000 else x)\n",
    "\n",
    "# Dropping all NA rows\n",
    "\n",
    "behavioral_data = behavioral_data.dropna()\n",
    "behavioral_data = behavioral_data.reset_index(drop=True)\n",
    "\n",
    "behavioral_data.describe()"
   ]
  },
  {
   "cell_type": "code",
   "execution_count": null,
   "metadata": {},
   "outputs": [],
   "source": [
    "# Dropping the old columns\n",
    "behavioral_data = behavioral_data.drop(columns = [\"_STATE\", \"SEX\", \"MARITAL\",\"EDUCA\", \"_RACEGR3\", \"INCOME2\", \"SMOKDAY2\", \"CVDCRHD4\",\"BPHIGH4\", \"CHCOCNCR\", \"TOLDHI2\", \"_BMI5CAT\", \"CVDSTRK3\", \"_AGEG5YR\" ,\"DIABETE3\"])\n",
    "\n",
    "behavioral_data.head()"
   ]
  },
  {
   "cell_type": "code",
   "execution_count": null,
   "metadata": {},
   "outputs": [],
   "source": [
    "# Re-naming the columns\n",
    "behavioral_data.rename(columns={\"WEIGHT2\" : \"Weight(lbs)\", \"EDUCA\":\"Education\", \"HTIN4\" : \"Height(ft)\", \"AVEDRNK2\": \"Alcohol/Day\", \"_VEGESUM\" : \"Vegetables/Day\" ,\"_FRUTSUM\" : \"Fruits/Day\", \"PA1MIN_\" : \"Physical Activity/Day(mints)\"},inplace=True)\n",
    "\n",
    "# Re-arranging the columns\n",
    "\n",
    "behavioral_data = behavioral_data[[\"State\",\"State Code\" ,\"Sex\", \"Marital Status\",\"Age\",\"Race\",\"Education\",\"Weight(lbs)\",\"Height(ft)\", \"Income\",\"Vegetables/Day\",\"Fruits/Day\", \"Physical Activity/Day(mints)\", \"Smoking\",\"Alcohol/Day\",\"BMI\", \"Blood Pressure\", \"Cholestrol\", \"Heart Disease\", \"Stroke\", \"Cancer\",\"Diabetes\"]]\n",
    "\n",
    "behavioral_data.head()"
   ]
  },
  {
   "cell_type": "code",
   "execution_count": null,
   "metadata": {},
   "outputs": [],
   "source": [
    "%%time\n",
    "# Writing the cleaned data to a new csv file.\n",
    "output_file = \"./Resources/behavioral_revised_data_final.csv\"\n",
    "behavioral_data.to_csv(output_file,index=0)\n"
   ]
  },
  {
   "cell_type": "code",
   "execution_count": 12,
   "metadata": {
    "scrolled": true
   },
   "outputs": [
    {
     "ename": "NameError",
     "evalue": "name 'behavioral_data' is not defined",
     "output_type": "error",
     "traceback": [
      "\u001b[0;31m---------------------------------------------------------------------------\u001b[0m",
      "\u001b[0;31mNameError\u001b[0m                                 Traceback (most recent call last)",
      "\u001b[0;32m<ipython-input-12-b48a57b19daa>\u001b[0m in \u001b[0;36m<module>\u001b[0;34m\u001b[0m\n\u001b[0;32m----> 1\u001b[0;31m \u001b[0mbehavioral_data\u001b[0m\u001b[0;34m.\u001b[0m\u001b[0minfo\u001b[0m\u001b[0;34m(\u001b[0m\u001b[0;34m)\u001b[0m\u001b[0;34m\u001b[0m\u001b[0;34m\u001b[0m\u001b[0m\n\u001b[0m",
      "\u001b[0;31mNameError\u001b[0m: name 'behavioral_data' is not defined"
     ]
    }
   ],
   "source": [
    "behavioral_data.info()\n"
   ]
  },
  {
   "cell_type": "code",
   "execution_count": null,
   "metadata": {},
   "outputs": [],
   "source": [
    "# Verifying Pairwise correlation of columns\n",
    "behavioral_data.corr()"
   ]
  },
  {
   "cell_type": "code",
   "execution_count": null,
   "metadata": {},
   "outputs": [],
   "source": [
    "behavioral_data = behavioral_data[behavioral_data.Income != 'Refused']\n"
   ]
  },
  {
   "cell_type": "code",
   "execution_count": 11,
   "metadata": {},
   "outputs": [
    {
     "ename": "NameError",
     "evalue": "name 'behavioral_data' is not defined",
     "output_type": "error",
     "traceback": [
      "\u001b[0;31m---------------------------------------------------------------------------\u001b[0m",
      "\u001b[0;31mNameError\u001b[0m                                 Traceback (most recent call last)",
      "\u001b[0;32m<ipython-input-11-22d83ac5ed94>\u001b[0m in \u001b[0;36m<module>\u001b[0;34m\u001b[0m\n\u001b[0;32m----> 1\u001b[0;31m \u001b[0mbehavioral_data\u001b[0m\u001b[0;34m.\u001b[0m\u001b[0mhead\u001b[0m\u001b[0;34m(\u001b[0m\u001b[0;34m)\u001b[0m\u001b[0;34m\u001b[0m\u001b[0;34m\u001b[0m\u001b[0m\n\u001b[0m",
      "\u001b[0;31mNameError\u001b[0m: name 'behavioral_data' is not defined"
     ]
    }
   ],
   "source": [
    "behavioral_data.head()"
   ]
  },
  {
   "cell_type": "code",
   "execution_count": null,
   "metadata": {},
   "outputs": [],
   "source": []
  }
 ],
 "metadata": {
  "kernelspec": {
   "display_name": "Python 3",
   "language": "python",
   "name": "python3"
  },
  "language_info": {
   "codemirror_mode": {
    "name": "ipython",
    "version": 3
   },
   "file_extension": ".py",
   "mimetype": "text/x-python",
   "name": "python",
   "nbconvert_exporter": "python",
   "pygments_lexer": "ipython3",
   "version": "3.7.3"
  }
 },
 "nbformat": 4,
 "nbformat_minor": 2
}
